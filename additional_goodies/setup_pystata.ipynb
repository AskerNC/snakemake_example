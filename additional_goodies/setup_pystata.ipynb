{
 "cells": [
  {
   "cell_type": "markdown",
   "id": "c37bc064",
   "metadata": {},
   "source": [
    "Guide: https://www.stata.com/python/pystata19/install.html"
   ]
  },
  {
   "cell_type": "code",
   "execution_count": 1,
   "id": "42704d92",
   "metadata": {},
   "outputs": [],
   "source": [
    "import stata_setup"
   ]
  },
  {
   "cell_type": "code",
   "execution_count": null,
   "id": "316a0ae3",
   "metadata": {},
   "outputs": [
    {
     "name": "stdout",
     "output_type": "stream",
     "text": [
      "\n",
      "  ___  ____  ____  ____  ____ ®\n",
      " /__    /   ____/   /   ____/      18.0\n",
      "___/   /   /___/   /   /___/       MP—Parallel Edition\n",
      "\n",
      " Statistics and Data Science       Copyright 1985-2023 StataCorp LLC\n",
      "                                   StataCorp\n",
      "                                   4905 Lakeway Drive\n",
      "                                   College Station, Texas 77845 USA\n",
      "                                   800-STATA-PC        https://www.stata.com\n",
      "                                   979-696-4600        stata@stata.com\n",
      "\n",
      "Stata license: Unlimited-user 2-core network, expiring 31 Aug 2025\n",
      "Serial number: 501809301569\n",
      "  Licensed to: Kim Petersen\n",
      "               Economic Institute\n",
      "\n",
      "Notes:\n",
      "      1. Unicode is supported; see help unicode_advice.\n",
      "      2. More than 2 billion observations are allowed; see help obs_advice.\n",
      "      3. Maximum number of variables is set to 5,000 but can be increased;\n",
      "          see help set_maxvar.\n",
      "\n",
      "Running C:\\Program Files\\Stata18/profile.do ...\n"
     ]
    }
   ],
   "source": [
    "# Type sysdir in stata to get the system directories \n",
    "stata_setup.config(r'C:\\Program Files\\Stata18/', 'mp')"
   ]
  },
  {
   "cell_type": "code",
   "execution_count": 5,
   "id": "fbc16dbc",
   "metadata": {},
   "outputs": [],
   "source": [
    "from pystata import stata"
   ]
  },
  {
   "cell_type": "code",
   "execution_count": 4,
   "id": "f0caed80",
   "metadata": {},
   "outputs": [
    {
     "name": "stdout",
     "output_type": "stream",
     "text": [
      "Hello, Stata!\n"
     ]
    }
   ],
   "source": [
    "stata.run('di \"Hello, Stata!\"')"
   ]
  },
  {
   "cell_type": "code",
   "execution_count": null,
   "id": "cac7dc2a",
   "metadata": {},
   "outputs": [],
   "source": []
  }
 ],
 "metadata": {
  "kernelspec": {
   "display_name": "a313_snake",
   "language": "python",
   "name": "python3"
  },
  "language_info": {
   "codemirror_mode": {
    "name": "ipython",
    "version": 3
   },
   "file_extension": ".py",
   "mimetype": "text/x-python",
   "name": "python",
   "nbconvert_exporter": "python",
   "pygments_lexer": "ipython3",
   "version": "3.13.1"
  }
 },
 "nbformat": 4,
 "nbformat_minor": 5
}
